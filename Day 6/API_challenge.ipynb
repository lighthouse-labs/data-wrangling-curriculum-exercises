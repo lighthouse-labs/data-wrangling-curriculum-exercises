{
 "cells": [
  {
   "cell_type": "markdown",
   "metadata": {},
   "source": [
    "# Project I\n",
    "### Wrangling the API data\n",
    "\n",
    "The point of this exercise is to try data enrichment with data from external APIs. We are going to take data about car crashes in Monroe County, Indiana from 2003 to 2015 and try to figure out the weather during the accident and how many bars there are in the area. We will work with two different APIs during this challenge:\n",
    "\n",
    "- Foursquare API\n",
    "- [World Weather Online API](https://www.worldweatheronline.com/developer/api/historical-weather-api.aspx)\n",
    "\n",
    "We will try to find correlations between the severity of crash and weather/number of bars in the area. To indicate the severity of a crash, we will use column `Injury Type`."
   ]
  },
  {
   "cell_type": "markdown",
   "metadata": {},
   "source": [
    "## Data\n",
    "\n",
    "The data for this exercise can be found [here](https://drive.google.com/file/d/1WjF8pL9RzSXJ6A_xc6a7TgZ2lV2h3E9c/view?usp=sharing).\n",
    "\n",
    "Just run the cells below to get your data ready. Little help from us.\n"
   ]
  },
  {
   "cell_type": "code",
   "execution_count": 5,
   "metadata": {},
   "outputs": [],
   "source": [
    "import pandas as pd\n",
    "import os\n",
    "pd.set_option(\"display.max_columns\", None)"
   ]
  },
  {
   "cell_type": "code",
   "execution_count": 2,
   "metadata": {},
   "outputs": [
    {
     "name": "stdout",
     "output_type": "stream",
     "text": [
      "(22986, 13)\n"
     ]
    },
    {
     "data": {
      "text/html": [
       "<div>\n",
       "<style scoped>\n",
       "    .dataframe tbody tr th:only-of-type {\n",
       "        vertical-align: middle;\n",
       "    }\n",
       "\n",
       "    .dataframe tbody tr th {\n",
       "        vertical-align: top;\n",
       "    }\n",
       "\n",
       "    .dataframe thead th {\n",
       "        text-align: right;\n",
       "    }\n",
       "</style>\n",
       "<table border=\"1\" class=\"dataframe\">\n",
       "  <thead>\n",
       "    <tr style=\"text-align: right;\">\n",
       "      <th></th>\n",
       "      <th>Master Record Number</th>\n",
       "      <th>Year</th>\n",
       "      <th>Month</th>\n",
       "      <th>Day</th>\n",
       "      <th>Weekend?</th>\n",
       "      <th>Hour</th>\n",
       "      <th>Collision Type</th>\n",
       "      <th>Injury Type</th>\n",
       "      <th>Primary Factor</th>\n",
       "      <th>Reported_Location</th>\n",
       "      <th>Latitude</th>\n",
       "      <th>Longitude</th>\n",
       "      <th>ll</th>\n",
       "    </tr>\n",
       "  </thead>\n",
       "  <tbody>\n",
       "    <tr>\n",
       "      <th>0</th>\n",
       "      <td>902363382</td>\n",
       "      <td>2015</td>\n",
       "      <td>1</td>\n",
       "      <td>5</td>\n",
       "      <td>Weekday</td>\n",
       "      <td>0.0</td>\n",
       "      <td>2-Car</td>\n",
       "      <td>No injury/unknown</td>\n",
       "      <td>OTHER (DRIVER) - EXPLAIN IN NARRATIVE</td>\n",
       "      <td>1ST &amp; FESS</td>\n",
       "      <td>39.159207</td>\n",
       "      <td>-86.525874</td>\n",
       "      <td>39.15920668,-86.52587356</td>\n",
       "    </tr>\n",
       "    <tr>\n",
       "      <th>1</th>\n",
       "      <td>902364268</td>\n",
       "      <td>2015</td>\n",
       "      <td>1</td>\n",
       "      <td>6</td>\n",
       "      <td>Weekday</td>\n",
       "      <td>1500.0</td>\n",
       "      <td>2-Car</td>\n",
       "      <td>No injury/unknown</td>\n",
       "      <td>FOLLOWING TOO CLOSELY</td>\n",
       "      <td>2ND &amp; COLLEGE</td>\n",
       "      <td>39.161440</td>\n",
       "      <td>-86.534848</td>\n",
       "      <td>39.16144,-86.534848</td>\n",
       "    </tr>\n",
       "    <tr>\n",
       "      <th>2</th>\n",
       "      <td>902364412</td>\n",
       "      <td>2015</td>\n",
       "      <td>1</td>\n",
       "      <td>6</td>\n",
       "      <td>Weekend</td>\n",
       "      <td>2300.0</td>\n",
       "      <td>2-Car</td>\n",
       "      <td>Non-incapacitating</td>\n",
       "      <td>DISREGARD SIGNAL/REG SIGN</td>\n",
       "      <td>BASSWOOD &amp; BLOOMFIELD</td>\n",
       "      <td>39.149780</td>\n",
       "      <td>-86.568890</td>\n",
       "      <td>39.14978027,-86.56889006</td>\n",
       "    </tr>\n",
       "    <tr>\n",
       "      <th>3</th>\n",
       "      <td>902364551</td>\n",
       "      <td>2015</td>\n",
       "      <td>1</td>\n",
       "      <td>7</td>\n",
       "      <td>Weekend</td>\n",
       "      <td>900.0</td>\n",
       "      <td>2-Car</td>\n",
       "      <td>Non-incapacitating</td>\n",
       "      <td>FAILURE TO YIELD RIGHT OF WAY</td>\n",
       "      <td>GATES &amp; JACOBS</td>\n",
       "      <td>39.165655</td>\n",
       "      <td>-86.575956</td>\n",
       "      <td>39.165655,-86.57595635</td>\n",
       "    </tr>\n",
       "    <tr>\n",
       "      <th>4</th>\n",
       "      <td>902364615</td>\n",
       "      <td>2015</td>\n",
       "      <td>1</td>\n",
       "      <td>7</td>\n",
       "      <td>Weekend</td>\n",
       "      <td>1100.0</td>\n",
       "      <td>2-Car</td>\n",
       "      <td>No injury/unknown</td>\n",
       "      <td>FAILURE TO YIELD RIGHT OF WAY</td>\n",
       "      <td>W 3RD</td>\n",
       "      <td>39.164848</td>\n",
       "      <td>-86.579625</td>\n",
       "      <td>39.164848,-86.57962482</td>\n",
       "    </tr>\n",
       "  </tbody>\n",
       "</table>\n",
       "</div>"
      ],
      "text/plain": [
       "   Master Record Number  Year  Month  Day Weekend?    Hour Collision Type  \\\n",
       "0             902363382  2015      1    5  Weekday     0.0          2-Car   \n",
       "1             902364268  2015      1    6  Weekday  1500.0          2-Car   \n",
       "2             902364412  2015      1    6  Weekend  2300.0          2-Car   \n",
       "3             902364551  2015      1    7  Weekend   900.0          2-Car   \n",
       "4             902364615  2015      1    7  Weekend  1100.0          2-Car   \n",
       "\n",
       "          Injury Type                         Primary Factor  \\\n",
       "0   No injury/unknown  OTHER (DRIVER) - EXPLAIN IN NARRATIVE   \n",
       "1   No injury/unknown                  FOLLOWING TOO CLOSELY   \n",
       "2  Non-incapacitating              DISREGARD SIGNAL/REG SIGN   \n",
       "3  Non-incapacitating          FAILURE TO YIELD RIGHT OF WAY   \n",
       "4   No injury/unknown          FAILURE TO YIELD RIGHT OF WAY   \n",
       "\n",
       "       Reported_Location   Latitude  Longitude                        ll  \n",
       "0             1ST & FESS  39.159207 -86.525874  39.15920668,-86.52587356  \n",
       "1          2ND & COLLEGE  39.161440 -86.534848       39.16144,-86.534848  \n",
       "2  BASSWOOD & BLOOMFIELD  39.149780 -86.568890  39.14978027,-86.56889006  \n",
       "3         GATES & JACOBS  39.165655 -86.575956    39.165655,-86.57595635  \n",
       "4                  W 3RD  39.164848 -86.579625    39.164848,-86.57962482  "
      ]
     },
     "execution_count": 2,
     "metadata": {},
     "output_type": "execute_result"
    }
   ],
   "source": [
    "data = pd.read_csv(\"monroe-county-crash-data2010-to-2015.csv\")\n",
    "# data = pd.read_csv(\"monroe-county-crash-data2003-to-2015.csv\", encoding=\"unicode_escape\")\n",
    "# ========================\n",
    "# preparing data\n",
    "data.dropna(subset=['Latitude', 'Longitude'], inplace=True)\n",
    "# creation of variable with lon and lat together\n",
    "data['ll'] = data['Latitude'].astype(str) + ',' + data['Longitude'].astype(str)\n",
    "data = data[data['ll'] != '0.0,0.0']\n",
    "print(data.shape)\n",
    "data.head()"
   ]
  },
  {
   "cell_type": "code",
   "execution_count": null,
   "metadata": {},
   "outputs": [],
   "source": []
  },
  {
   "cell_type": "code",
   "execution_count": null,
   "metadata": {},
   "outputs": [],
   "source": []
  },
  {
   "cell_type": "markdown",
   "metadata": {},
   "source": [
    "# Foursquare API\n",
    "\n",
    "Foursquare API documentation is [here](https://developer.foursquare.com/)\n",
    "\n",
    "1. Start a foursquare application and get your keys.\n",
    "2. For each crash, create the function **get_venues** that will pull bars in the radius of 5km around the crash\n",
    "\n",
    "#### example\n",
    "`get_venues('48.146394, 17.107969')`\n",
    "\n",
    "3. Find a relationship (if there is any) between number of bars in the area and severity of the crash.\n",
    "\n",
    "HINTs: \n",
    "- pull number of bars only for smaller sample of crashes (500 or so) due to API limits\n",
    "- check out python package \"foursquare\" (no need to send HTTP requests directly with library `requests`)\n",
    "- **categoryId** for bars and nightlife needs to be found in the [foursquare API documentation](https://developer.foursquare.com/docs/api-reference/venues/search/)"
   ]
  },
  {
   "cell_type": "code",
   "execution_count": null,
   "metadata": {},
   "outputs": [],
   "source": [
    "#set the keys\n",
    "foursquare_id = \"\"\n",
    "foursquare_secret = \"\""
   ]
  },
  {
   "cell_type": "code",
   "execution_count": null,
   "metadata": {},
   "outputs": [],
   "source": []
  },
  {
   "cell_type": "code",
   "execution_count": null,
   "metadata": {},
   "outputs": [],
   "source": []
  },
  {
   "cell_type": "markdown",
   "metadata": {},
   "source": [
    "# World Weather Online API\n",
    "\n",
    "World Weather Online API is [here](https://www.worldweatheronline.com/developer/api/historical-weather-api.aspx)\n",
    "\n",
    "1. Sign up for FREE api key if you haven't done that before (it's free for **60 days**).\n",
    "2. For each crush, get the weather for the location and date.\n",
    "3. Find a relationship between the weather and severity of the crash.\n",
    "\n",
    "Hints:\n",
    "\n",
    "* pull weather only for smaller sample of crashes (500 or so) due to API limits\n",
    "* for sending HTTP requests check out \"requests\" library [here](http://docs.python-requests.org/en/master/)\n"
   ]
  },
  {
   "cell_type": "code",
   "execution_count": null,
   "metadata": {},
   "outputs": [],
   "source": [
    "import requests\n",
    "api_key = os.environ[\"\"]"
   ]
  },
  {
   "cell_type": "code",
   "execution_count": null,
   "metadata": {},
   "outputs": [],
   "source": []
  },
  {
   "cell_type": "code",
   "execution_count": null,
   "metadata": {},
   "outputs": [],
   "source": []
  },
  {
   "cell_type": "code",
   "execution_count": null,
   "metadata": {},
   "outputs": [],
   "source": []
  },
  {
   "cell_type": "code",
   "execution_count": null,
   "metadata": {},
   "outputs": [],
   "source": []
  },
  {
   "cell_type": "code",
   "execution_count": null,
   "metadata": {},
   "outputs": [],
   "source": []
  },
  {
   "cell_type": "code",
   "execution_count": null,
   "metadata": {},
   "outputs": [],
   "source": []
  },
  {
   "cell_type": "markdown",
   "metadata": {},
   "source": [
    "### Export the Final Data as `Excel` Spreadsheet."
   ]
  },
  {
   "cell_type": "code",
   "execution_count": null,
   "metadata": {},
   "outputs": [],
   "source": []
  }
 ],
 "metadata": {
  "kernelspec": {
   "display_name": "Python 3",
   "language": "python",
   "name": "python3"
  },
  "language_info": {
   "codemirror_mode": {
    "name": "ipython",
    "version": 3
   },
   "file_extension": ".py",
   "mimetype": "text/x-python",
   "name": "python",
   "nbconvert_exporter": "python",
   "pygments_lexer": "ipython3",
   "version": "3.7.6"
  }
 },
 "nbformat": 4,
 "nbformat_minor": 4
}
