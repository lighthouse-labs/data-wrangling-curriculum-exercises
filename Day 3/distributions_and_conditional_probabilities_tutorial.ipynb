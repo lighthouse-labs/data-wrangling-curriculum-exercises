{
 "cells": [
  {
   "cell_type": "markdown",
   "metadata": {},
   "source": [
    "## Basic Probability Distributions and Conditional Probability Tutorial"
   ]
  },
  {
   "cell_type": "code",
   "execution_count": null,
   "metadata": {},
   "outputs": [],
   "source": []
  },
  {
   "cell_type": "code",
   "execution_count": null,
   "metadata": {},
   "outputs": [],
   "source": [
    "#from scipy import stats \n",
    "import scipy.stats as st"
   ]
  },
  {
   "cell_type": "markdown",
   "metadata": {},
   "source": [
    "### Usefull functions for probability and statistics:"
   ]
  },
  {
   "cell_type": "code",
   "execution_count": null,
   "metadata": {},
   "outputs": [],
   "source": [
    "#rvs - function to generate random numbers"
   ]
  },
  {
   "cell_type": "markdown",
   "metadata": {},
   "source": [
    "#### binomial distribution"
   ]
  },
  {
   "cell_type": "code",
   "execution_count": null,
   "metadata": {},
   "outputs": [],
   "source": [
    "distribution = st.binom(1000,p=0.1)\n",
    "# generate 10 numbers rom distribution above\n",
    "x = distribution.rvs(10)\n",
    "x"
   ]
  },
  {
   "cell_type": "code",
   "execution_count": null,
   "metadata": {},
   "outputs": [],
   "source": [
    "#pmf - probability mass function\n",
    "distribution.pmf(100) # there is ~4% probability that randomly generated number will be 100"
   ]
  },
  {
   "cell_type": "code",
   "execution_count": null,
   "metadata": {},
   "outputs": [],
   "source": [
    "distribution.pmf([99,100,101])"
   ]
  },
  {
   "cell_type": "code",
   "execution_count": null,
   "metadata": {},
   "outputs": [],
   "source": [
    "#cdf - probability distribution function\n",
    "distribution.cdf(100) # there is ~52% probability that randomly generated number will be 100 or lower"
   ]
  },
  {
   "cell_type": "code",
   "execution_count": null,
   "metadata": {},
   "outputs": [],
   "source": [
    "distribution.cdf([150,100])"
   ]
  },
  {
   "cell_type": "code",
   "execution_count": null,
   "metadata": {},
   "outputs": [],
   "source": [
    "#pdf - probability distribution function\n",
    "# continuous equivalent of pmf"
   ]
  },
  {
   "cell_type": "code",
   "execution_count": null,
   "metadata": {},
   "outputs": [],
   "source": [
    "# mean()\n",
    "distribution.mean()"
   ]
  },
  {
   "cell_type": "code",
   "execution_count": null,
   "metadata": {},
   "outputs": [],
   "source": [
    "# std()\n",
    "distribution.std()"
   ]
  },
  {
   "cell_type": "markdown",
   "metadata": {},
   "source": [
    "Reference for [scipy documentation](https://docs.scipy.org/doc/scipy-0.18.1/reference/stats.html)."
   ]
  },
  {
   "cell_type": "code",
   "execution_count": null,
   "metadata": {},
   "outputs": [],
   "source": []
  },
  {
   "cell_type": "markdown",
   "metadata": {},
   "source": [
    "#### available discrete distributions"
   ]
  },
  {
   "cell_type": "code",
   "execution_count": null,
   "metadata": {},
   "outputs": [],
   "source": [
    "[name for name in dir(st) if isinstance(getattr(st, name), st.rv_discrete)]"
   ]
  },
  {
   "cell_type": "markdown",
   "metadata": {},
   "source": [
    "#### available continuous distributions"
   ]
  },
  {
   "cell_type": "code",
   "execution_count": null,
   "metadata": {},
   "outputs": [],
   "source": [
    "[name for name in dir(st) if isinstance(getattr(st, name), st.rv_continuous)]"
   ]
  },
  {
   "cell_type": "code",
   "execution_count": null,
   "metadata": {},
   "outputs": [],
   "source": []
  },
  {
   "cell_type": "code",
   "execution_count": null,
   "metadata": {},
   "outputs": [],
   "source": []
  },
  {
   "cell_type": "markdown",
   "metadata": {},
   "source": [
    "## Medical Tests\n",
    "\n",
    "\n",
    "A diagnostic test has a probability 0.95 of giving a positive result when applied to a person suffering\n",
    "from a certain disease, and a probability 0.01 of giving a (false) positive when applied to a non-sufferer. It is\n",
    "estimated that 0.5 % of the population are sufferers. Suppose that the test is now administered to a person about\n",
    "whom we have no relevant information relating to the disease (apart from the fact that he/she comes from this\n",
    "population). \n",
    "\n",
    "How big is the chance that a person has a disease when tested positive?\n",
    "\n",
    "Solve it by two approaches:\n",
    "1. Arithmetically (similarly tu earlier tutorial)\n",
    "2. By simulation (run the test 10000 times and compute the probabilities)"
   ]
  },
  {
   "cell_type": "markdown",
   "metadata": {},
   "source": [
    "We will use **Bayes Theorem**:"
   ]
  },
  {
   "cell_type": "markdown",
   "metadata": {},
   "source": [
    "<img src=\"bayes_theorem.png\" alt=\"Drawing\" style=\"width: 600px;\"/>"
   ]
  },
  {
   "cell_type": "markdown",
   "metadata": {},
   "source": [
    "#### Analytical solution using Bayes Theorem"
   ]
  },
  {
   "cell_type": "code",
   "execution_count": null,
   "metadata": {},
   "outputs": [],
   "source": [
    "# a - person is drug user\n",
    "# b - test is positive\n",
    "prob_a = 0.005 # probability of having a disease\n",
    "prob_b_a = 0.95 # probability of positive test, given that person is drug user\n",
    "prob_a_neg = 0.995 # probability of non-drug user\n",
    "prob_b_a_neg = 0.01 # probability of positive test, given that person is non-drug user (test error)\n",
    "\n",
    "prob_a_b = prob_b_a*prob_a / ((prob_b_a*prob_a) + (prob_b_a_neg*prob_a_neg))\n",
    "print(f\"Probability of being a sufferer if tested positive is: {prob_a_b}\")"
   ]
  },
  {
   "cell_type": "code",
   "execution_count": null,
   "metadata": {},
   "outputs": [],
   "source": []
  },
  {
   "cell_type": "markdown",
   "metadata": {},
   "source": [
    "#### Simulation"
   ]
  },
  {
   "cell_type": "code",
   "execution_count": null,
   "metadata": {},
   "outputs": [],
   "source": [
    "# Simulate if person is a sufferer\n",
    "people = st.bernoulli(p=0.005).rvs(10000)"
   ]
  },
  {
   "cell_type": "code",
   "execution_count": null,
   "metadata": {},
   "outputs": [],
   "source": [
    "# percentage of people who have disease\n",
    "p_user = people.sum()/float(len(people))\n",
    "p_user"
   ]
  },
  {
   "cell_type": "code",
   "execution_count": null,
   "metadata": {},
   "outputs": [],
   "source": [
    "#simulate the machine\n",
    "results = {}\n",
    "has_disease_results = []\n",
    "doesnt_have_disease_results = []\n",
    "counter = 0\n",
    "for person in people:\n",
    "    counter += 1\n",
    "    if counter % 1000 == 0:\n",
    "        print(\"processing row number %d\" %counter)\n",
    "    # if person has disease what is the chance of positive test\n",
    "    has_disease_test = st.bernoulli(p=0.95)\n",
    "    # if person doesn't have disease what is the chance of positive test\n",
    "    doesnt_have_disease_test = st.bernoulli(p=0.01)\n",
    "    # if person is positive\n",
    "    if person == 1:\n",
    "        # generate the result of test from has_disease_test distribution\n",
    "        result_disease = has_disease_test.rvs(1)\n",
    "        has_disease_results.append(result_disease[0])\n",
    "    else:\n",
    "        # generate the result of test from doesnt_have_disease_test distribution\n",
    "        result_non_disease = doesnt_have_disease_test.rvs(1)\n",
    "        doesnt_have_disease_results.append(result_non_disease[0])\n",
    "results[\"user_results\"] = has_disease_results\n",
    "results[\"non_user_results\"] = doesnt_have_disease_results"
   ]
  },
  {
   "cell_type": "code",
   "execution_count": null,
   "metadata": {},
   "outputs": [],
   "source": [
    "# True Positive\n",
    "tp = sum(results[\"user_results\"])\n",
    "tp"
   ]
  },
  {
   "cell_type": "code",
   "execution_count": null,
   "metadata": {},
   "outputs": [],
   "source": [
    "fp = sum(results[\"non_user_results\"])\n",
    "fp"
   ]
  },
  {
   "cell_type": "code",
   "execution_count": null,
   "metadata": {},
   "outputs": [],
   "source": [
    "tn = len(results[\"non_user_results\"]) - sum(results[\"non_user_results\"])\n",
    "tn"
   ]
  },
  {
   "cell_type": "code",
   "execution_count": null,
   "metadata": {},
   "outputs": [],
   "source": [
    "fn = len(results[\"user_results\"]) - sum(results[\"user_results\"])\n",
    "fn"
   ]
  },
  {
   "cell_type": "code",
   "execution_count": null,
   "metadata": {},
   "outputs": [],
   "source": [
    "total = fn + fp + tn + tp\n",
    "total"
   ]
  },
  {
   "cell_type": "markdown",
   "metadata": {},
   "source": [
    "#### How big is the chance that a person has a disease when tested positive?"
   ]
  },
  {
   "cell_type": "code",
   "execution_count": null,
   "metadata": {},
   "outputs": [],
   "source": [
    "float(tp) / (fp + tp)"
   ]
  },
  {
   "cell_type": "code",
   "execution_count": null,
   "metadata": {},
   "outputs": [],
   "source": []
  }
 ],
 "metadata": {
  "kernelspec": {
   "display_name": "Python 3",
   "language": "python",
   "name": "python3"
  },
  "language_info": {
   "codemirror_mode": {
    "name": "ipython",
    "version": 3
   },
   "file_extension": ".py",
   "mimetype": "text/x-python",
   "name": "python",
   "nbconvert_exporter": "python",
   "pygments_lexer": "ipython3",
   "version": "3.7.6"
  }
 },
 "nbformat": 4,
 "nbformat_minor": 4
}
