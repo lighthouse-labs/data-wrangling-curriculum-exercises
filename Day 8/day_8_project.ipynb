{
 "cells": [
  {
   "cell_type": "markdown",
   "metadata": {},
   "source": [
    "\n",
    "## On the job scenario:\n",
    "\n",
    "Let’s have a look at the scenario for today’s tasks. You have already developed the automated reports that run every month. For now, they are running locally on your own computer. Imagine that everyone in the company wants to have access to these reports, in this case it would not be the best solution to run it locally. This means we will need to migrate it to a server location in the cloud.\n"
   ]
  },
  {
   "cell_type": "code",
   "execution_count": null,
   "metadata": {},
   "outputs": [],
   "source": []
  },
  {
   "cell_type": "code",
   "execution_count": null,
   "metadata": {},
   "outputs": [],
   "source": []
  },
  {
   "cell_type": "markdown",
   "metadata": {},
   "source": [
    "#### **Task I:**\n",
    "\n",
    "Set up your own Amazon EC2 Instance with Ubuntu Server. Set up your working environment in the cloud so you can access it from your local machine."
   ]
  },
  {
   "cell_type": "code",
   "execution_count": null,
   "metadata": {},
   "outputs": [],
   "source": []
  },
  {
   "cell_type": "markdown",
   "metadata": {},
   "source": [
    "#### **Task II**\n",
    "\n",
    "Migrate the solution from Project I to your EC2 Instance, including your sqlite3 database. The script should be prepared to be scheduled to run regularly in the cloud.\n",
    "\n",
    "- Use github to migrate code files\n",
    "- Ssh protocol for copying data and database"
   ]
  },
  {
   "cell_type": "code",
   "execution_count": null,
   "metadata": {},
   "outputs": [],
   "source": []
  },
  {
   "cell_type": "code",
   "execution_count": null,
   "metadata": {},
   "outputs": [],
   "source": []
  },
  {
   "cell_type": "markdown",
   "metadata": {},
   "source": [
    "## On-the-job scenario (Continued):\n",
    "\n",
    "The first part of the job is done now. The job runs successfully in the cloud, and we don’t have to leave our own machine running in order to generate reports. But now, how can other people see these reports? "
   ]
  },
  {
   "cell_type": "code",
   "execution_count": null,
   "metadata": {},
   "outputs": [],
   "source": []
  },
  {
   "cell_type": "code",
   "execution_count": null,
   "metadata": {},
   "outputs": [],
   "source": []
  },
  {
   "cell_type": "markdown",
   "metadata": {},
   "source": [
    "### **Task III**\n",
    "\n",
    "Using Flask, create your own API on the server that can be used to retrieve the monthly report. You will have to create following endpoints:\n",
    "\n",
    "- get_transaction_report \n",
    "- get_product_report \n",
    "- get_agent_report \n",
    "\n",
    "These endpoints will accept one parameter, **month**, in format YYYY-MM. These endpoints will launch the scripts that take reports from the required tables and send it through the network to our local machine in JSON format. (using function **jsonify()** in flask).\n",
    "\n"
   ]
  },
  {
   "cell_type": "code",
   "execution_count": null,
   "metadata": {},
   "outputs": [],
   "source": []
  },
  {
   "cell_type": "code",
   "execution_count": null,
   "metadata": {},
   "outputs": [],
   "source": []
  },
  {
   "cell_type": "markdown",
   "metadata": {},
   "source": [
    "\n",
    "\n",
    "#### **Task IV**\n",
    "\n",
    "Create a python script on your local machine that takes the report information from the API and converts and stores it as an Excel file. There are three types of reports for now. We need to create one script that parses all of them. We need to come up with a right UDF which can parse any dataframe in JSON format.\n",
    "\n",
    "Created Excel files should have the correct naming convention. For example, the transaction report for February 2020 should be: **022020_transaction_report.xlsx**.\n"
   ]
  },
  {
   "cell_type": "code",
   "execution_count": null,
   "metadata": {},
   "outputs": [],
   "source": []
  },
  {
   "cell_type": "code",
   "execution_count": null,
   "metadata": {},
   "outputs": [],
   "source": []
  },
  {
   "cell_type": "code",
   "execution_count": null,
   "metadata": {},
   "outputs": [],
   "source": []
  },
  {
   "cell_type": "code",
   "execution_count": null,
   "metadata": {},
   "outputs": [],
   "source": []
  },
  {
   "cell_type": "code",
   "execution_count": null,
   "metadata": {},
   "outputs": [],
   "source": []
  },
  {
   "cell_type": "markdown",
   "metadata": {},
   "source": [
    "#### **Task V (Stretch)**\n",
    "\n",
    "Use your script from Task IV to pull product reports for the first 6 months of 2020. Analyze the gathered data and extract any insights you find."
   ]
  },
  {
   "cell_type": "code",
   "execution_count": null,
   "metadata": {},
   "outputs": [],
   "source": []
  }
 ],
 "metadata": {
  "kernelspec": {
   "display_name": "Python 3",
   "language": "python",
   "name": "python3"
  },
  "language_info": {
   "codemirror_mode": {
    "name": "ipython",
    "version": 3
   },
   "file_extension": ".py",
   "mimetype": "text/x-python",
   "name": "python",
   "nbconvert_exporter": "python",
   "pygments_lexer": "ipython3",
   "version": "3.7.6"
  }
 },
 "nbformat": 4,
 "nbformat_minor": 4
}
